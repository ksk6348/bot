{
 "cells": [
  {
   "cell_type": "code",
   "execution_count": null,
   "metadata": {},
   "outputs": [
    {
     "name": "stdout",
     "output_type": "stream",
     "text": [
      "、(209213)\n",
      "する(79570)\n",
      "️(65095)\n",
      "いる(46150)\n",
      "私(44706)\n",
      "の(34160)\n",
      "なる(28590)\n",
      "こと(25263)\n",
      "❣(24259)\n",
      "さん(24211)\n",
      "ある(24057)\n",
      "言う(23175)\n",
      "✨(23157)\n",
      "❤(21541)\n",
      "ん(21335)\n",
      "てる(21053)\n",
      "みなさん(20211)\n",
      "れる(18554)\n",
      "くださる(18489)\n",
      "見る(17682)\n",
      "せる(17513)\n",
      "よう(17298)\n",
      "思う(16923)\n",
      "日(16527)\n",
      ")(16128)\n",
      "((15360)\n",
      "さ(14901)\n",
      "くれる(14814)\n",
      "しまう(13920)\n",
      "自分(13501)\n",
      "今日(13030)\n",
      "方(12772)\n",
      "☺(12604)\n",
      "ない(12171)\n",
      "人(12042)\n",
      "いい(11028)\n",
      "‍♀(10887)\n",
      "何(10078)\n",
      "来る(9903)\n",
      "たち(9408)\n",
      "時間(9006)\n",
      "くる(8995)\n",
      "一(8535)\n",
      "...(8424)\n",
      "みなさま(8424)\n",
      "人間(8278)\n",
      "事(7906)\n",
      "✋(7756)\n",
      "本日(7675)\n",
      "🏻(7667)\n"
     ]
    }
   ],
   "source": [
    "from janome.tokenizer import Tokenizer\n",
    "\n",
    "WAKATI_PATH = '../../res/post_wakati.txt'\n",
    "\n",
    "word_dic = {}\n",
    "with open(WAKATI_PATH) as f:\n",
    "    text = f.read()\n",
    "    for word in text.split(' '):\n",
    "        if word not in word_dic.keys():\n",
    "            word_dic[word] = 0\n",
    "        word_dic[word] += 1\n",
    "        \n",
    "keys = sorted(word_dic.items(), key=lambda x:x[1], reverse=True)\n",
    "for k, v in keys[:50]:\n",
    "    print(\"{0}({1})\".format(k, v))"
   ]
  },
  {
   "cell_type": "code",
   "execution_count": null,
   "metadata": {},
   "outputs": [],
   "source": []
  }
 ],
 "metadata": {
  "kernelspec": {
   "display_name": "Python 3",
   "language": "python",
   "name": "python3"
  },
  "language_info": {
   "codemirror_mode": {
    "name": "ipython",
    "version": 3
   },
   "file_extension": ".py",
   "mimetype": "text/x-python",
   "name": "python",
   "nbconvert_exporter": "python",
   "pygments_lexer": "ipython3",
   "version": "3.6.0"
  }
 },
 "nbformat": 4,
 "nbformat_minor": 1
}
